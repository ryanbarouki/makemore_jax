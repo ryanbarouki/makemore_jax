{
 "cells": [
  {
   "cell_type": "code",
   "execution_count": 1,
   "metadata": {},
   "outputs": [
    {
     "name": "stderr",
     "output_type": "stream",
     "text": [
      "/Users/ryanbarouki/miniconda3/envs/pytorchenv/lib/python3.12/site-packages/tqdm/auto.py:21: TqdmWarning: IProgress not found. Please update jupyter and ipywidgets. See https://ipywidgets.readthedocs.io/en/stable/user_install.html\n",
      "  from .autonotebook import tqdm as notebook_tqdm\n"
     ]
    }
   ],
   "source": [
    "import jax\n",
    "import jax.numpy as jnp\n",
    "import numpy as np\n",
    "import optax\n",
    "import matplotlib.pyplot as plt\n",
    "from tqdm.auto import tqdm\n",
    "%matplotlib inline"
   ]
  },
  {
   "cell_type": "code",
   "execution_count": 2,
   "metadata": {},
   "outputs": [
    {
     "data": {
      "text/plain": [
       "['emma',\n",
       " 'olivia',\n",
       " 'ava',\n",
       " 'isabella',\n",
       " 'sophia',\n",
       " 'charlotte',\n",
       " 'mia',\n",
       " 'amelia',\n",
       " 'harper',\n",
       " 'evelyn']"
      ]
     },
     "execution_count": 2,
     "metadata": {},
     "output_type": "execute_result"
    }
   ],
   "source": [
    "words = open('names.txt', 'r').read().splitlines()\n",
    "words[:10]"
   ]
  },
  {
   "cell_type": "code",
   "execution_count": 3,
   "metadata": {},
   "outputs": [],
   "source": [
    "chars = sorted(list(set(\"\".join(words))))\n",
    "stoi = {s:i+1 for i,s in enumerate(chars)}\n",
    "stoi['.'] = 0\n",
    "itos = {i:s for s,i in stoi.items()}"
   ]
  },
  {
   "cell_type": "code",
   "execution_count": 4,
   "metadata": {},
   "outputs": [],
   "source": [
    "def build_dataset(words, block_size=3):\n",
    "    block_size = 3\n",
    "    X, Y = [], []\n",
    "\n",
    "    for w in words:\n",
    "        context = [0] * block_size\n",
    "        for ch in w + '.':\n",
    "            ix = stoi[ch]\n",
    "            X.append(context)\n",
    "            Y.append(ix)\n",
    "            context = context[1:] + [ix]\n",
    "\n",
    "    X = jnp.array(X)\n",
    "    Y = jnp.array(Y)\n",
    "    print(X.shape, X.dtype, Y.shape, Y.dtype)\n",
    "    return X, Y"
   ]
  },
  {
   "cell_type": "code",
   "execution_count": 5,
   "metadata": {},
   "outputs": [
    {
     "name": "stdout",
     "output_type": "stream",
     "text": [
      "(182588, 3) int32 (182588,) int32\n",
      "(22782, 3) int32 (22782,) int32\n",
      "(22776, 3) int32 (22776,) int32\n"
     ]
    }
   ],
   "source": [
    "key = jax.random.PRNGKey(420+69)\n",
    "# Split the data train/val/test at the word level\n",
    "import random\n",
    "random.shuffle(words)\n",
    "n1 = int(0.8*len(words))\n",
    "n2 = int(0.9*len(words))\n",
    "Xtr, Ytr = build_dataset(words[:n1])\n",
    "Xdev, Ydev = build_dataset(words[n1:n2])\n",
    "Xte, Yte = build_dataset(words[n2:])"
   ]
  },
  {
   "cell_type": "code",
   "execution_count": null,
   "metadata": {},
   "outputs": [],
   "source": [
    "# TODO\n",
    "# - become a backprop ninja: Part 4 (split out to new notebook)\n",
    "\n",
    "emb_dim = 10\n",
    "context_size = 3\n",
    "hidden_size = 200\n",
    "vocab_size = 27\n",
    "\n",
    "C = jax.random.normal(key, (vocab_size,emb_dim))\n",
    "W1 = jax.random.normal(key, (context_size*emb_dim,hidden_size)) * (5/3)/((emb_dim*context_size)**0.5)\n",
    "b1 = jax.random.normal(key, hidden_size) * 0.01\n",
    "W2 = jax.random.normal(key, (hidden_size, vocab_size)) * 0.01\n",
    "b2 = jax.random.normal(key, vocab_size) * 0\n",
    "bngain = jnp.ones((1,hidden_size))\n",
    "bnbias = jnp.zeros((1,hidden_size))\n",
    "\n",
    "parameters = [C, W1, b1, W2, b2, bngain, bnbias]"
   ]
  },
  {
   "cell_type": "code",
   "execution_count": 7,
   "metadata": {},
   "outputs": [
    {
     "name": "stdout",
     "output_type": "stream",
     "text": [
      "Number of parameters: 12297\n"
     ]
    }
   ],
   "source": [
    "print(f\"Number of parameters: {sum([p.size for p in parameters])}\")"
   ]
  },
  {
   "cell_type": "code",
   "execution_count": 8,
   "metadata": {},
   "outputs": [],
   "source": [
    "from collections import namedtuple\n",
    "\n",
    "TrainState = namedtuple('TrainState', 'params bn_ra_mean bn_ra_std')\n",
    "\n",
    "# def __init__(self):\n",
    "#     self.running_mean = jnp.zeros((1, self.hidden_size))\n",
    "#     self.running_std = jnp.ones((1, self.hidden_size))\n",
    "\n",
    "def model(params, X, bn_ra_mean, bn_ra_std, bn_momentum=0.001, training=True):\n",
    "    C, W1, b1, W2, b2, bngain, bnbias = params\n",
    "    emb = C[X]\n",
    "    hpreact = emb.reshape(-1,emb_dim*context_size) @ W1 + b1\n",
    "    if training:\n",
    "        mean = hpreact.mean(axis=0, keepdims=True)\n",
    "        std = hpreact.std(axis=0,keepdims=True)\n",
    "        hpreact = bngain * ((hpreact - mean)/std) + bnbias\n",
    "        new_mean = (1 - bn_momentum) * bn_ra_mean + bn_momentum * mean\n",
    "        new_std = (1 - bn_momentum) * bn_ra_std + bn_momentum * std\n",
    "    else:\n",
    "        # Use running average of mean and std\n",
    "        hpreact = bngain * ((hpreact - bn_ra_mean)/bn_ra_std) + bnbias\n",
    "        new_mean = bn_ra_mean\n",
    "        new_std = bn_ra_std\n",
    "\n",
    "    h = jnp.tanh(hpreact)\n",
    "    logits = h @ W2 + b2\n",
    "    return logits, (new_mean, new_std)\n",
    "\n",
    "def loss_fn(params, bnstate, X, Y):\n",
    "    mean, std = bnstate\n",
    "    logits, bnstats = model(params, X, mean, std)\n",
    "    return optax.losses.softmax_cross_entropy_with_integer_labels(logits, Y).mean(), bnstats\n",
    "\n",
    "\n",
    "@jax.jit\n",
    "def train_step(params, bnstate, X_batch, Y_batch, lr):\n",
    "    (loss, bnstats), grads = jax.value_and_grad(loss_fn, has_aux=True)(params, bnstate, X_batch, Y_batch)\n",
    "\n",
    "    # Gradients and gradient descent\n",
    "    new_params = [p - lr * g for p, g in zip(params, grads)]\n",
    "    return loss, new_params, bnstats"
   ]
  },
  {
   "cell_type": "code",
   "execution_count": 9,
   "metadata": {},
   "outputs": [],
   "source": [
    "lossi = []\n",
    "stepi = []"
   ]
  },
  {
   "cell_type": "code",
   "execution_count": 11,
   "metadata": {},
   "outputs": [
    {
     "name": "stderr",
     "output_type": "stream",
     "text": [
      "100%|██████████| 200000/200000 [01:12<00:00, 2745.29it/s]"
     ]
    },
    {
     "name": "stdout",
     "output_type": "stream",
     "text": [
      "1.9974155\n"
     ]
    },
    {
     "name": "stderr",
     "output_type": "stream",
     "text": [
      "\n"
     ]
    }
   ],
   "source": [
    "\n",
    "# USED TO DETERMINE GOOD LEARNING RATE\n",
    "# lri = []\n",
    "# lre = jnp.linspace(-3,0,1000)\n",
    "#lr = 10**lre\n",
    "# =====================================\n",
    "\n",
    "# Training loop\n",
    "batch_size = 32\n",
    "\n",
    "bnstats = (jnp.zeros((1, hidden_size)), jnp.ones((1, hidden_size)))\n",
    "params = parameters\n",
    "for i in tqdm(range(200000)):\n",
    "    lr = 0.1 if i < 100000 else 0.01\n",
    "    # mini-batch\n",
    "    key, subkey = jax.random.split(key)\n",
    "    ix = jax.random.randint(subkey, (batch_size), 0, Xtr.shape[0])\n",
    "\n",
    "    loss, params, bnstats = train_step(params, bnstats, Xtr[ix], Ytr[ix], lr)\n",
    "\n",
    "    # Track stats to determine good learning rate\n",
    "    # lri.append(lr[i])\n",
    "    lossi.append(jnp.log10(loss))\n",
    "    stepi.append(i)\n",
    "\n",
    "print(loss)"
   ]
  },
  {
   "cell_type": "code",
   "execution_count": 12,
   "metadata": {},
   "outputs": [
    {
     "data": {
      "text/plain": [
       "[<matplotlib.lines.Line2D at 0x153c10770>]"
      ]
     },
     "execution_count": 12,
     "metadata": {},
     "output_type": "execute_result"
    },
    {
     "data": {
      "image/png": "[encoded data removed]",
      "text/plain": [
       "<Figure size 640x480 with 1 Axes>"
      ]
     },
     "metadata": {},
     "output_type": "display_data"
    }
   ],
   "source": [
    "plt.plot(stepi, lossi)"
   ]
  },
  {
   "cell_type": "code",
   "execution_count": 14,
   "metadata": {},
   "outputs": [
    {
     "name": "stdout",
     "output_type": "stream",
     "text": [
      "2.1126947\n"
     ]
    }
   ],
   "source": [
    "#plt.plot(lri, lossi)\n",
    "loss, _= loss_fn(params, bnstats, Xdev, Ydev)\n",
    "print(loss)"
   ]
  },
  {
   "cell_type": "code",
   "execution_count": null,
   "metadata": {},
   "outputs": [
    {
     "data": {
      "image/png": "[encoded data removed]",
      "text/plain": [
       "<Figure size 800x800 with 1 Axes>"
      ]
     },
     "metadata": {},
     "output_type": "display_data"
    }
   ],
   "source": [
    "# Only really made sense when we were using 2-dim embedding matrix C\n",
    "plt.figure(figsize=(8,8))\n",
    "plt.scatter(C[:,0], C[:,1], s=200)\n",
    "for i in range(C.shape[0]):\n",
    "    plt.text(C[i,0], C[i,1], itos[i], ha='center', va='center', color='white')\n",
    "plt.grid('minor')"
   ]
  },
  {
   "cell_type": "code",
   "execution_count": 15,
   "metadata": {},
   "outputs": [
    {
     "data": {
      "text/plain": [
       "Array([[-4.6093946 ,  1.7917719 ,  0.6763427 ,  1.1666722 ,  1.0253906 ,\n",
       "         0.80501163, -0.4007216 ,  0.08370864,  0.19114582, -0.37692606,\n",
       "         1.3799764 ,  1.7288439 ,  0.86737007,  1.3304696 ,  0.4988303 ,\n",
       "        -0.5394652 , -0.37819916, -1.9892464 ,  0.73890674,  1.1982256 ,\n",
       "         0.7226164 , -2.2862546 , -0.64054585, -0.9970407 , -1.8557564 ,\n",
       "        -0.26272386,  0.36953866]], dtype=float32)"
      ]
     },
     "execution_count": 15,
     "metadata": {},
     "output_type": "execute_result"
    }
   ],
   "source": [
    "logits, _= model(params, Xdev[:1], bnstats[0], bnstats[1], training=False)\n",
    "logits"
   ]
  },
  {
   "cell_type": "code",
   "execution_count": 17,
   "metadata": {},
   "outputs": [
    {
     "name": "stdout",
     "output_type": "stream",
     "text": [
      "kennoh.\n",
      "azvi.\n",
      "abrianeliodtynn.\n",
      "sylia.\n",
      "jomiennys.\n",
      "lorela.\n",
      "tedianni.\n",
      "coobvabella.\n",
      "kolee.\n",
      "elkowtannis.\n",
      "sta.\n",
      "nathelgs.\n",
      "alee.\n",
      "hamryn.\n",
      "aya.\n",
      "zyela.\n",
      "niliana.\n",
      "ayrin.\n",
      "mica.\n",
      "ston.\n"
     ]
    }
   ],
   "source": [
    "# Sample from the trained model\n",
    "\n",
    "sample_key = jax.random.PRNGKey(4206969)\n",
    "\n",
    "for _ in range(20):\n",
    "    out = []\n",
    "    context = [0] * 3\n",
    "\n",
    "    while True:\n",
    "        sample_key, sample_sub_key = jax.random.split(sample_key)\n",
    "        logits, _ = model(params, jnp.array([context]), bnstats[0], bnstats[1], training=False)\n",
    "        ix = jax.random.categorical(sample_sub_key, logits)[0]\n",
    "        context = context[1:] + [ix]\n",
    "        out.append(int(ix))\n",
    "        if ix == 0:\n",
    "            break\n",
    "    print(''.join(itos[i] for i in out))\n"
   ]
  },
  {
   "cell_type": "code",
   "execution_count": null,
   "metadata": {},
   "outputs": [],
   "source": []
  }
 ],
 "metadata": {
  "kernelspec": {
   "display_name": "pytorchenv",
   "language": "python",
   "name": "python3"
  },
  "language_info": {
   "codemirror_mode": {
    "name": "ipython",
    "version": 3
   },
   "file_extension": ".py",
   "mimetype": "text/x-python",
   "name": "python",
   "nbconvert_exporter": "python",
   "pygments_lexer": "ipython3",
   "version": "3.12.7"
  }
 },
 "nbformat": 4,
 "nbformat_minor": 2
}
