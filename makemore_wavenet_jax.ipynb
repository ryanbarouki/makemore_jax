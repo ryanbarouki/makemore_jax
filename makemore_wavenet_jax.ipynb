{
 "cells": [
  {
   "cell_type": "code",
   "execution_count": 77,
   "metadata": {},
   "outputs": [],
   "source": [
    "import jax\n",
    "import jax.numpy as jnp\n",
    "import numpy as np\n",
    "import optax\n",
    "import matplotlib.pyplot as plt\n",
    "from tqdm.auto import tqdm\n",
    "%matplotlib inline"
   ]
  },
  {
   "cell_type": "code",
   "execution_count": 78,
   "metadata": {},
   "outputs": [
    {
     "data": {
      "text/plain": [
       "['emma',\n",
       " 'olivia',\n",
       " 'ava',\n",
       " 'isabella',\n",
       " 'sophia',\n",
       " 'charlotte',\n",
       " 'mia',\n",
       " 'amelia',\n",
       " 'harper',\n",
       " 'evelyn']"
      ]
     },
     "execution_count": 78,
     "metadata": {},
     "output_type": "execute_result"
    }
   ],
   "source": [
    "words = open('names.txt', 'r').read().splitlines()\n",
    "words[:10]"
   ]
  },
  {
   "cell_type": "code",
   "execution_count": 79,
   "metadata": {},
   "outputs": [],
   "source": [
    "chars = sorted(list(set(\"\".join(words))))\n",
    "stoi = {s:i+1 for i,s in enumerate(chars)}\n",
    "stoi['.'] = 0\n",
    "itos = {i:s for s,i in stoi.items()}"
   ]
  },
  {
   "cell_type": "code",
   "execution_count": 80,
   "metadata": {},
   "outputs": [],
   "source": [
    "def build_dataset(words, block_size=3):\n",
    "    X, Y = [], []\n",
    "\n",
    "    for w in words:\n",
    "        context = [0] * block_size\n",
    "        for ch in w + '.':\n",
    "            ix = stoi[ch]\n",
    "            X.append(context)\n",
    "            Y.append(ix)\n",
    "            context = context[1:] + [ix]\n",
    "\n",
    "    X = jnp.array(X)\n",
    "    Y = jnp.array(Y)\n",
    "    print(X.shape, X.dtype, Y.shape, Y.dtype)\n",
    "    return X, Y"
   ]
  },
  {
   "cell_type": "code",
   "execution_count": 81,
   "metadata": {},
   "outputs": [
    {
     "name": "stdout",
     "output_type": "stream",
     "text": [
      "(182345, 8) int32 (182345,) int32\n",
      "(22933, 8) int32 (22933,) int32\n",
      "(22868, 8) int32 (22868,) int32\n"
     ]
    }
   ],
   "source": [
    "key = jax.random.PRNGKey(420+69)\n",
    "# Split the data train/val/test at the word level\n",
    "import random\n",
    "random.shuffle(words)\n",
    "n1 = int(0.8*len(words))\n",
    "n2 = int(0.9*len(words))\n",
    "block_size = 8\n",
    "Xtr, Ytr = build_dataset(words[:n1], block_size)\n",
    "Xdev, Ydev = build_dataset(words[n1:n2], block_size)\n",
    "Xte, Yte = build_dataset(words[n2:], block_size)"
   ]
  },
  {
   "cell_type": "code",
   "execution_count": 82,
   "metadata": {},
   "outputs": [
    {
     "data": {
      "text/plain": [
       "<module 'modules' from '/Users/ryanbarouki/Documents/Coding/makemore_jax/modules.py'>"
      ]
     },
     "execution_count": 82,
     "metadata": {},
     "output_type": "execute_result"
    }
   ],
   "source": [
    "import modules as nn\n",
    "import importlib\n",
    "importlib.reload(nn)"
   ]
  },
  {
   "cell_type": "code",
   "execution_count": 83,
   "metadata": {},
   "outputs": [],
   "source": [
    "emb_dim = 10\n",
    "context_size = block_size\n",
    "hidden_size = 68\n",
    "vocab_size = 27\n",
    "\n",
    "init_fun, forward = nn.sequential([nn.Embedding(emb_dim=emb_dim, vocab_size=vocab_size),\n",
    "\n",
    "                                   nn.FlattenConsecutive(2),\n",
    "                                   nn.Linear(fan_out=hidden_size, bias=False),\n",
    "                                   nn.BatchNorm(),\n",
    "                                   nn.Tanh(),\n",
    "\n",
    "                                   nn.FlattenConsecutive(2),\n",
    "                                   nn.Linear(fan_out=hidden_size, bias=False),\n",
    "                                   nn.BatchNorm(),\n",
    "                                   nn.Tanh(),\n",
    "\n",
    "                                   nn.FlattenConsecutive(2),\n",
    "                                   nn.Linear(fan_out=hidden_size, bias=False),\n",
    "                                   nn.BatchNorm(),\n",
    "                                   nn.Tanh(),\n",
    "\n",
    "                                   nn.Linear(fan_out=vocab_size)])\n",
    "\n",
    "key = jax.random.PRNGKey(12121)\n",
    "params_and_state = init_fun(key, jnp.ones(context_size, dtype=int))\n"
   ]
  },
  {
   "cell_type": "code",
   "execution_count": 84,
   "metadata": {},
   "outputs": [
    {
     "name": "stdout",
     "output_type": "stream",
     "text": [
      "Number of parameters: 22941\n",
      "Embedding_0: (27, 10)\n",
      "Linear_2: (20, 68)\n",
      "BatchNorm_3: (1, 4, 68)\n",
      "BatchNorm_3: (1, 4, 68)\n",
      "Linear_6: (136, 68)\n",
      "BatchNorm_7: (1, 2, 68)\n",
      "BatchNorm_7: (1, 2, 68)\n",
      "Linear_10: (136, 68)\n",
      "BatchNorm_11: (1, 68)\n",
      "BatchNorm_11: (1, 68)\n",
      "Linear_13: (68, 27)\n",
      "Linear_13: (27,)\n"
     ]
    }
   ],
   "source": [
    "print(f\"Number of parameters: {sum([p.size for layer in params_and_state[0].values() for p in layer])}\")\n",
    "for name, ps in params_and_state[0].items():\n",
    "    for p in ps:\n",
    "        print(f\"{name}: {p.shape}\")\n"
   ]
  },
  {
   "cell_type": "code",
   "execution_count": null,
   "metadata": {},
   "outputs": [],
   "source": [
    "def loss_fn(params, batch_stats, X, Y):\n",
    "    logits, batch_stats = forward((params, batch_stats), X)\n",
    "    return optax.losses.softmax_cross_entropy_with_integer_labels(logits, Y).mean(), batch_stats\n",
    "\n",
    "@jax.jit\n",
    "def train_step(params, batch_stats, X_batch, Y_batch, lr):\n",
    "    (loss, batch_stats), grads = jax.value_and_grad(loss_fn, has_aux=True)(params, batch_stats, X_batch, Y_batch)\n",
    "\n",
    "    params = jax.tree.map(lambda p, g: p - lr * g, params, grads)\n",
    "    return loss, params, batch_stats"
   ]
  },
  {
   "cell_type": "code",
   "execution_count": 86,
   "metadata": {},
   "outputs": [],
   "source": [
    "lossi = []\n",
    "stepi = []"
   ]
  },
  {
   "cell_type": "code",
   "execution_count": 76,
   "metadata": {},
   "outputs": [
    {
     "name": "stderr",
     "output_type": "stream",
     "text": [
      "  0%|          | 1/200000 [00:00<15:06:20,  3.68it/s]"
     ]
    },
    {
     "name": "stdout",
     "output_type": "stream",
     "text": [
      "[(1, 68), (1, 68), (1, 4, 68), (1, 4, 68), (1, 2, 68), (1, 2, 68)]\n",
      "3.4161382\n"
     ]
    },
    {
     "name": "stderr",
     "output_type": "stream",
     "text": [
      "  5%|▌         | 10405/200000 [00:04<01:19, 2396.68it/s]"
     ]
    },
    {
     "name": "stdout",
     "output_type": "stream",
     "text": [
      "2.409605\n"
     ]
    },
    {
     "name": "stderr",
     "output_type": "stream",
     "text": [
      " 10%|█         | 20413/200000 [00:08<01:13, 2436.38it/s]"
     ]
    },
    {
     "name": "stdout",
     "output_type": "stream",
     "text": [
      "2.1776628\n"
     ]
    },
    {
     "name": "stderr",
     "output_type": "stream",
     "text": [
      " 15%|█▌        | 30274/200000 [00:12<01:09, 2457.45it/s]"
     ]
    },
    {
     "name": "stdout",
     "output_type": "stream",
     "text": [
      "2.348562\n"
     ]
    },
    {
     "name": "stderr",
     "output_type": "stream",
     "text": [
      " 20%|██        | 40391/200000 [00:17<01:06, 2392.76it/s]"
     ]
    },
    {
     "name": "stdout",
     "output_type": "stream",
     "text": [
      "1.9653268\n"
     ]
    },
    {
     "name": "stderr",
     "output_type": "stream",
     "text": [
      " 25%|██▌       | 50395/200000 [00:21<01:06, 2257.55it/s]"
     ]
    },
    {
     "name": "stdout",
     "output_type": "stream",
     "text": [
      "2.095037\n"
     ]
    },
    {
     "name": "stderr",
     "output_type": "stream",
     "text": [
      " 26%|██▋       | 52508/200000 [00:22<01:03, 2331.61it/s]\n"
     ]
    },
    {
     "ename": "KeyboardInterrupt",
     "evalue": "",
     "output_type": "error",
     "traceback": [
      "\u001b[0;31m---------------------------------------------------------------------------\u001b[0m",
      "\u001b[0;31mKeyboardInterrupt\u001b[0m                         Traceback (most recent call last)",
      "Cell \u001b[0;32mIn[76], line 14\u001b[0m\n\u001b[1;32m     12\u001b[0m lr \u001b[38;5;241m=\u001b[39m \u001b[38;5;241m0.1\u001b[39m \u001b[38;5;28;01mif\u001b[39;00m i \u001b[38;5;241m<\u001b[39m \u001b[38;5;241m100000\u001b[39m \u001b[38;5;28;01melse\u001b[39;00m \u001b[38;5;241m0.01\u001b[39m\n\u001b[1;32m     13\u001b[0m \u001b[38;5;66;03m# mini-batch\u001b[39;00m\n\u001b[0;32m---> 14\u001b[0m key, subkey \u001b[38;5;241m=\u001b[39m \u001b[43mjax\u001b[49m\u001b[38;5;241;43m.\u001b[39;49m\u001b[43mrandom\u001b[49m\u001b[38;5;241;43m.\u001b[39;49m\u001b[43msplit\u001b[49m\u001b[43m(\u001b[49m\u001b[43mkey\u001b[49m\u001b[43m)\u001b[49m\n\u001b[1;32m     15\u001b[0m ix \u001b[38;5;241m=\u001b[39m jax\u001b[38;5;241m.\u001b[39mrandom\u001b[38;5;241m.\u001b[39mrandint(subkey, (batch_size), \u001b[38;5;241m0\u001b[39m, Xtr\u001b[38;5;241m.\u001b[39mshape[\u001b[38;5;241m0\u001b[39m])\n\u001b[1;32m     17\u001b[0m loss, params, batch_stats \u001b[38;5;241m=\u001b[39m train_step(params, batch_stats, Xtr[ix], Ytr[ix], lr)\n",
      "File \u001b[0;32m~/miniconda3/envs/pytorchenv/lib/python3.12/site-packages/jax/_src/random.py:291\u001b[0m, in \u001b[0;36msplit\u001b[0;34m(key, num)\u001b[0m\n\u001b[1;32m    280\u001b[0m \u001b[38;5;250m\u001b[39m\u001b[38;5;124;03m\"\"\"Splits a PRNG key into `num` new keys by adding a leading axis.\u001b[39;00m\n\u001b[1;32m    281\u001b[0m \n\u001b[1;32m    282\u001b[0m \u001b[38;5;124;03mArgs:\u001b[39;00m\n\u001b[0;32m   (...)\u001b[0m\n\u001b[1;32m    288\u001b[0m \u001b[38;5;124;03m  An array-like object of `num` new PRNG keys.\u001b[39;00m\n\u001b[1;32m    289\u001b[0m \u001b[38;5;124;03m\"\"\"\u001b[39;00m\n\u001b[1;32m    290\u001b[0m typed_key, wrapped \u001b[38;5;241m=\u001b[39m _check_prng_key(\u001b[38;5;124m\"\u001b[39m\u001b[38;5;124msplit\u001b[39m\u001b[38;5;124m\"\u001b[39m, key)\n\u001b[0;32m--> 291\u001b[0m \u001b[38;5;28;01mreturn\u001b[39;00m _return_prng_keys(wrapped, \u001b[43m_split\u001b[49m\u001b[43m(\u001b[49m\u001b[43mtyped_key\u001b[49m\u001b[43m,\u001b[49m\u001b[43m \u001b[49m\u001b[43mnum\u001b[49m\u001b[43m)\u001b[49m)\n",
      "File \u001b[0;32m~/miniconda3/envs/pytorchenv/lib/python3.12/site-packages/jax/_src/random.py:277\u001b[0m, in \u001b[0;36m_split\u001b[0;34m(key, num)\u001b[0m\n\u001b[1;32m    274\u001b[0m   \u001b[38;5;28;01mraise\u001b[39;00m \u001b[38;5;167;01mTypeError\u001b[39;00m(\u001b[38;5;124m\"\u001b[39m\u001b[38;5;124msplit accepts a single key, but was given a key array of \u001b[39m\u001b[38;5;124m\"\u001b[39m\n\u001b[1;32m    275\u001b[0m                   \u001b[38;5;124mf\u001b[39m\u001b[38;5;124m\"\u001b[39m\u001b[38;5;124mshape \u001b[39m\u001b[38;5;132;01m{\u001b[39;00mkey\u001b[38;5;241m.\u001b[39mshape\u001b[38;5;132;01m}\u001b[39;00m\u001b[38;5;124m != (). Use jax.vmap for batching.\u001b[39m\u001b[38;5;124m\"\u001b[39m)\n\u001b[1;32m    276\u001b[0m shape \u001b[38;5;241m=\u001b[39m \u001b[38;5;28mtuple\u001b[39m(num) \u001b[38;5;28;01mif\u001b[39;00m \u001b[38;5;28misinstance\u001b[39m(num, Sequence) \u001b[38;5;28;01melse\u001b[39;00m (num,)\n\u001b[0;32m--> 277\u001b[0m \u001b[38;5;28;01mreturn\u001b[39;00m \u001b[43mprng\u001b[49m\u001b[38;5;241;43m.\u001b[39;49m\u001b[43mrandom_split\u001b[49m\u001b[43m(\u001b[49m\u001b[43mkey\u001b[49m\u001b[43m,\u001b[49m\u001b[43m \u001b[49m\u001b[43mshape\u001b[49m\u001b[38;5;241;43m=\u001b[39;49m\u001b[43mshape\u001b[49m\u001b[43m)\u001b[49m\n",
      "File \u001b[0;32m~/miniconda3/envs/pytorchenv/lib/python3.12/site-packages/jax/_src/prng.py:568\u001b[0m, in \u001b[0;36mrandom_split\u001b[0;34m(keys, shape)\u001b[0m\n\u001b[1;32m    567\u001b[0m \u001b[38;5;28;01mdef\u001b[39;00m \u001b[38;5;21mrandom_split\u001b[39m(keys, shape: Shape):\n\u001b[0;32m--> 568\u001b[0m   \u001b[38;5;28;01mreturn\u001b[39;00m \u001b[43mrandom_split_p\u001b[49m\u001b[38;5;241;43m.\u001b[39;49m\u001b[43mbind\u001b[49m\u001b[43m(\u001b[49m\u001b[43mkeys\u001b[49m\u001b[43m,\u001b[49m\u001b[43m \u001b[49m\u001b[43mshape\u001b[49m\u001b[38;5;241;43m=\u001b[39;49m\u001b[43mshape\u001b[49m\u001b[43m)\u001b[49m\n",
      "File \u001b[0;32m~/miniconda3/envs/pytorchenv/lib/python3.12/site-packages/jax/_src/core.py:502\u001b[0m, in \u001b[0;36mPrimitive.bind\u001b[0;34m(self, *args, **params)\u001b[0m\n\u001b[1;32m    500\u001b[0m \u001b[38;5;28;01mdef\u001b[39;00m \u001b[38;5;21mbind\u001b[39m(\u001b[38;5;28mself\u001b[39m, \u001b[38;5;241m*\u001b[39margs, \u001b[38;5;241m*\u001b[39m\u001b[38;5;241m*\u001b[39mparams):\n\u001b[1;32m    501\u001b[0m   args \u001b[38;5;241m=\u001b[39m args \u001b[38;5;28;01mif\u001b[39;00m \u001b[38;5;28mself\u001b[39m\u001b[38;5;241m.\u001b[39mskip_canonicalization \u001b[38;5;28;01melse\u001b[39;00m \u001b[38;5;28mmap\u001b[39m(canonicalize_value, args)\n\u001b[0;32m--> 502\u001b[0m   \u001b[38;5;28;01mreturn\u001b[39;00m \u001b[38;5;28;43mself\u001b[39;49m\u001b[38;5;241;43m.\u001b[39;49m\u001b[43m_true_bind\u001b[49m\u001b[43m(\u001b[49m\u001b[38;5;241;43m*\u001b[39;49m\u001b[43margs\u001b[49m\u001b[43m,\u001b[49m\u001b[43m \u001b[49m\u001b[38;5;241;43m*\u001b[39;49m\u001b[38;5;241;43m*\u001b[39;49m\u001b[43mparams\u001b[49m\u001b[43m)\u001b[49m\n",
      "File \u001b[0;32m~/miniconda3/envs/pytorchenv/lib/python3.12/site-packages/jax/_src/core.py:520\u001b[0m, in \u001b[0;36mPrimitive._true_bind\u001b[0;34m(self, *args, **params)\u001b[0m\n\u001b[1;32m    518\u001b[0m trace_ctx\u001b[38;5;241m.\u001b[39mset_trace(eval_trace)\n\u001b[1;32m    519\u001b[0m \u001b[38;5;28;01mtry\u001b[39;00m:\n\u001b[0;32m--> 520\u001b[0m   \u001b[38;5;28;01mreturn\u001b[39;00m \u001b[38;5;28;43mself\u001b[39;49m\u001b[38;5;241;43m.\u001b[39;49m\u001b[43mbind_with_trace\u001b[49m\u001b[43m(\u001b[49m\u001b[43mprev_trace\u001b[49m\u001b[43m,\u001b[49m\u001b[43m \u001b[49m\u001b[43margs\u001b[49m\u001b[43m,\u001b[49m\u001b[43m \u001b[49m\u001b[43mparams\u001b[49m\u001b[43m)\u001b[49m\n\u001b[1;32m    521\u001b[0m \u001b[38;5;28;01mfinally\u001b[39;00m:\n\u001b[1;32m    522\u001b[0m   trace_ctx\u001b[38;5;241m.\u001b[39mset_trace(prev_trace)\n",
      "File \u001b[0;32m~/miniconda3/envs/pytorchenv/lib/python3.12/site-packages/jax/_src/core.py:525\u001b[0m, in \u001b[0;36mPrimitive.bind_with_trace\u001b[0;34m(self, trace, args, params)\u001b[0m\n\u001b[1;32m    524\u001b[0m \u001b[38;5;28;01mdef\u001b[39;00m \u001b[38;5;21mbind_with_trace\u001b[39m(\u001b[38;5;28mself\u001b[39m, trace, args, params):\n\u001b[0;32m--> 525\u001b[0m   \u001b[38;5;28;01mreturn\u001b[39;00m \u001b[43mtrace\u001b[49m\u001b[38;5;241;43m.\u001b[39;49m\u001b[43mprocess_primitive\u001b[49m\u001b[43m(\u001b[49m\u001b[38;5;28;43mself\u001b[39;49m\u001b[43m,\u001b[49m\u001b[43m \u001b[49m\u001b[43margs\u001b[49m\u001b[43m,\u001b[49m\u001b[43m \u001b[49m\u001b[43mparams\u001b[49m\u001b[43m)\u001b[49m\n",
      "File \u001b[0;32m~/miniconda3/envs/pytorchenv/lib/python3.12/site-packages/jax/_src/core.py:1029\u001b[0m, in \u001b[0;36mEvalTrace.process_primitive\u001b[0;34m(self, primitive, args, params)\u001b[0m\n\u001b[1;32m   1027\u001b[0m       \u001b[38;5;28;01mreturn\u001b[39;00m primitive\u001b[38;5;241m.\u001b[39mbind_with_trace(arg\u001b[38;5;241m.\u001b[39m_trace, args, params)\n\u001b[1;32m   1028\u001b[0m check_eval_args(args)\n\u001b[0;32m-> 1029\u001b[0m \u001b[38;5;28;01mreturn\u001b[39;00m \u001b[43mprimitive\u001b[49m\u001b[38;5;241;43m.\u001b[39;49m\u001b[43mimpl\u001b[49m\u001b[43m(\u001b[49m\u001b[38;5;241;43m*\u001b[39;49m\u001b[43margs\u001b[49m\u001b[43m,\u001b[49m\u001b[43m \u001b[49m\u001b[38;5;241;43m*\u001b[39;49m\u001b[38;5;241;43m*\u001b[39;49m\u001b[43mparams\u001b[49m\u001b[43m)\u001b[49m\n",
      "File \u001b[0;32m~/miniconda3/envs/pytorchenv/lib/python3.12/site-packages/jax/_src/prng.py:584\u001b[0m, in \u001b[0;36mrandom_split_impl\u001b[0;34m(keys, shape)\u001b[0m\n\u001b[1;32m    582\u001b[0m \u001b[38;5;129m@random_split_p\u001b[39m\u001b[38;5;241m.\u001b[39mdef_impl\n\u001b[1;32m    583\u001b[0m \u001b[38;5;28;01mdef\u001b[39;00m \u001b[38;5;21mrandom_split_impl\u001b[39m(keys, \u001b[38;5;241m*\u001b[39m, shape):\n\u001b[0;32m--> 584\u001b[0m   base_arr \u001b[38;5;241m=\u001b[39m \u001b[43mrandom_split_impl_base\u001b[49m\u001b[43m(\u001b[49m\n\u001b[1;32m    585\u001b[0m \u001b[43m      \u001b[49m\u001b[43mkeys\u001b[49m\u001b[38;5;241;43m.\u001b[39;49m\u001b[43m_impl\u001b[49m\u001b[43m,\u001b[49m\u001b[43m \u001b[49m\u001b[43mkeys\u001b[49m\u001b[38;5;241;43m.\u001b[39;49m\u001b[43m_base_array\u001b[49m\u001b[43m,\u001b[49m\u001b[43m \u001b[49m\u001b[43mkeys\u001b[49m\u001b[38;5;241;43m.\u001b[39;49m\u001b[43mndim\u001b[49m\u001b[43m,\u001b[49m\u001b[43m \u001b[49m\u001b[43mshape\u001b[49m\u001b[38;5;241;43m=\u001b[39;49m\u001b[43mshape\u001b[49m\u001b[43m)\u001b[49m\n\u001b[1;32m    586\u001b[0m   \u001b[38;5;28;01mreturn\u001b[39;00m PRNGKeyArray(keys\u001b[38;5;241m.\u001b[39m_impl, base_arr)\n",
      "File \u001b[0;32m~/miniconda3/envs/pytorchenv/lib/python3.12/site-packages/jax/_src/prng.py:590\u001b[0m, in \u001b[0;36mrandom_split_impl_base\u001b[0;34m(impl, base_arr, keys_ndim, shape)\u001b[0m\n\u001b[1;32m    588\u001b[0m \u001b[38;5;28;01mdef\u001b[39;00m \u001b[38;5;21mrandom_split_impl_base\u001b[39m(impl, base_arr, keys_ndim, \u001b[38;5;241m*\u001b[39m, shape):\n\u001b[1;32m    589\u001b[0m   split \u001b[38;5;241m=\u001b[39m iterated_vmap_unary(keys_ndim, \u001b[38;5;28;01mlambda\u001b[39;00m k: impl\u001b[38;5;241m.\u001b[39msplit(k, shape))\n\u001b[0;32m--> 590\u001b[0m   \u001b[38;5;28;01mreturn\u001b[39;00m \u001b[43msplit\u001b[49m\u001b[43m(\u001b[49m\u001b[43mbase_arr\u001b[49m\u001b[43m)\u001b[49m\n",
      "File \u001b[0;32m~/miniconda3/envs/pytorchenv/lib/python3.12/site-packages/jax/_src/prng.py:589\u001b[0m, in \u001b[0;36mrandom_split_impl_base.<locals>.<lambda>\u001b[0;34m(k)\u001b[0m\n\u001b[1;32m    588\u001b[0m \u001b[38;5;28;01mdef\u001b[39;00m \u001b[38;5;21mrandom_split_impl_base\u001b[39m(impl, base_arr, keys_ndim, \u001b[38;5;241m*\u001b[39m, shape):\n\u001b[0;32m--> 589\u001b[0m   split \u001b[38;5;241m=\u001b[39m iterated_vmap_unary(keys_ndim, \u001b[38;5;28;01mlambda\u001b[39;00m k: \u001b[43mimpl\u001b[49m\u001b[38;5;241;43m.\u001b[39;49m\u001b[43msplit\u001b[49m\u001b[43m(\u001b[49m\u001b[43mk\u001b[49m\u001b[43m,\u001b[49m\u001b[43m \u001b[49m\u001b[43mshape\u001b[49m\u001b[43m)\u001b[49m)\n\u001b[1;32m    590\u001b[0m   \u001b[38;5;28;01mreturn\u001b[39;00m split(base_arr)\n",
      "File \u001b[0;32m~/miniconda3/envs/pytorchenv/lib/python3.12/site-packages/jax/_src/prng.py:1109\u001b[0m, in \u001b[0;36mthreefry_split\u001b[0;34m(key, shape)\u001b[0m\n\u001b[1;32m   1107\u001b[0m \u001b[38;5;28;01mdef\u001b[39;00m \u001b[38;5;21mthreefry_split\u001b[39m(key: typing\u001b[38;5;241m.\u001b[39mArray, shape: Shape) \u001b[38;5;241m-\u001b[39m\u001b[38;5;241m>\u001b[39m typing\u001b[38;5;241m.\u001b[39mArray:\n\u001b[1;32m   1108\u001b[0m   shape \u001b[38;5;241m=\u001b[39m \u001b[38;5;28mtuple\u001b[39m(unsafe_map(core\u001b[38;5;241m.\u001b[39mconcrete_dim_or_error, shape))\n\u001b[0;32m-> 1109\u001b[0m   \u001b[38;5;28;01mreturn\u001b[39;00m \u001b[43m_threefry_split\u001b[49m\u001b[43m(\u001b[49m\u001b[43mkey\u001b[49m\u001b[43m,\u001b[49m\u001b[43m \u001b[49m\u001b[43mshape\u001b[49m\u001b[43m)\u001b[49m\n",
      "\u001b[0;31mKeyboardInterrupt\u001b[0m: "
     ]
    }
   ],
   "source": [
    "# USED TO DETERMINE GOOD LEARNING RATE\n",
    "# lri = []\n",
    "# lre = jnp.linspace(-3,0,1000)\n",
    "#lr = 10**lre\n",
    "# =====================================\n",
    "\n",
    "# Training loop\n",
    "batch_size = 32\n",
    "\n",
    "params, batch_stats = params_and_state\n",
    "for i in tqdm(range(200000)):\n",
    "    lr = 0.1 if i < 100000 else 0.01\n",
    "    # mini-batch\n",
    "    key, subkey = jax.random.split(key)\n",
    "    ix = jax.random.randint(subkey, (batch_size), 0, Xtr.shape[0])\n",
    "\n",
    "    loss, params, batch_stats = train_step(params, batch_stats, Xtr[ix], Ytr[ix], lr)\n",
    "\n",
    "    # Track stats to determine good learning rate\n",
    "    # lri.append(lr[i])\n",
    "    lossi.append(jnp.log10(loss))\n",
    "    stepi.append(i)\n",
    "\n",
    "    if i % 10000 == 0:\n",
    "        print(loss)\n",
    "\n",
    "print(loss)"
   ]
  },
  {
   "cell_type": "code",
   "execution_count": 87,
   "metadata": {},
   "outputs": [
    {
     "name": "stdout",
     "output_type": "stream",
     "text": [
      "[(1, 68), (1, 68), (1, 4, 68), (1, 4, 68), (1, 2, 68), (1, 2, 68)]\n"
     ]
    }
   ],
   "source": [
    "\n",
    "def body_fun(carry, i):\n",
    "    params, batch_stats, key = carry\n",
    "\n",
    "    # deterministic schedule\n",
    "    lr = jnp.where(i < 100_000, 0.1, 0.01)\n",
    "\n",
    "    key, subkey = jax.random.split(key)\n",
    "    ix = jax.random.randint(subkey, (batch_size,), 0, Xtr.shape[0])\n",
    "\n",
    "    loss, params, batch_stats = train_step(params, batch_stats,\n",
    "                                           Xtr[ix], Ytr[ix], lr)\n",
    "    return (params, batch_stats, key), loss\n",
    "\n",
    "@jax.jit\n",
    "def train_all(params, batch_stats, key):\n",
    "    # scan over integers [0..199999], collect losses\n",
    "    (params, batch_stats, _), losses = jax.lax.scan(\n",
    "        body_fun,\n",
    "        (params, batch_stats, key),\n",
    "        jnp.arange(epochs),\n",
    "    )\n",
    "    return params, batch_stats, losses\n",
    "\n",
    "batch_size = 32\n",
    "epochs = 200_000\n",
    "params, batch_stats = params_and_state\n",
    "params, batch_stats, losses = train_all(params, batch_stats, key)\n"
   ]
  },
  {
   "cell_type": "code",
   "execution_count": 88,
   "metadata": {},
   "outputs": [
    {
     "data": {
      "text/plain": [
       "[<matplotlib.lines.Line2D at 0x31d945b50>]"
      ]
     },
     "execution_count": 88,
     "metadata": {},
     "output_type": "execute_result"
    },
    {
     "data": {
      "image/png": "[encoded data removed]",
      "text/plain": [
       "<Figure size 640x480 with 1 Axes>"
      ]
     },
     "metadata": {},
     "output_type": "display_data"
    }
   ],
   "source": [
    "plt.plot(losses.reshape((-1,1000)).mean(axis=1))"
   ]
  },
  {
   "cell_type": "code",
   "execution_count": 89,
   "metadata": {},
   "outputs": [
    {
     "name": "stdout",
     "output_type": "stream",
     "text": [
      "[(1, 68), (1, 68), (1, 4, 68), (1, 4, 68), (1, 2, 68), (1, 2, 68)]\n",
      "2.0150037\n"
     ]
    }
   ],
   "source": [
    "#plt.plot(lri, lossi)\n",
    "loss, _= loss_fn(params, batch_stats, Xdev, Ydev)\n",
    "print(loss)"
   ]
  },
  {
   "cell_type": "code",
   "execution_count": 90,
   "metadata": {},
   "outputs": [
    {
     "data": {
      "text/plain": [
       "Array([[-4.6320324 ,  1.9496434 ,  0.7657905 ,  0.8005317 ,  1.0502467 ,\n",
       "         0.89655936, -0.33836663,  0.02667183,  0.39294901,  0.00603819,\n",
       "         1.5542786 ,  1.4744879 ,  1.1325284 ,  1.40937   ,  0.5699303 ,\n",
       "        -0.4242711 , -0.06028605, -2.0459056 ,  1.0019922 ,  1.0669174 ,\n",
       "         0.6783103 , -2.3643076 , -0.4787999 , -0.5078327 , -1.3354304 ,\n",
       "        -0.09397638,  0.645069  ]], dtype=float32)"
      ]
     },
     "execution_count": 90,
     "metadata": {},
     "output_type": "execute_result"
    }
   ],
   "source": [
    "# making sure you can apply the model to one example\n",
    "logits, _= forward((params, batch_stats), Xdev[:1], train=False)\n",
    "logits"
   ]
  },
  {
   "cell_type": "code",
   "execution_count": 91,
   "metadata": {},
   "outputs": [
    {
     "name": "stdout",
     "output_type": "stream",
     "text": [
      "nazielyn.\n",
      "carvydy.\n",
      "drekkel.\n",
      "javeryn.\n",
      "xoral.\n",
      "oyusuth.\n",
      "rhol.\n",
      "lossa.\n",
      "dalune.\n",
      "sannixee.\n",
      "reiha.\n",
      "kayela.\n",
      "avrey.\n",
      "sirus.\n",
      "jaleiah.\n",
      "madorian.\n",
      "tyreel.\n",
      "johar.\n",
      "tayvon.\n",
      "kaden.\n"
     ]
    }
   ],
   "source": [
    "# Sample from the trained model\n",
    "\n",
    "sample_key = jax.random.PRNGKey(4206969)\n",
    "\n",
    "for _ in range(20):\n",
    "    out = []\n",
    "    context = [0] * context_size\n",
    "\n",
    "    sample_key, sample_sub_key = jax.random.split(sample_key)\n",
    "    while True:\n",
    "        sample_key, sample_sub_key = jax.random.split(sample_sub_key)\n",
    "        logits, _ = forward((params, batch_stats), jnp.array([context]), train=False)\n",
    "        ix = jax.random.categorical(sample_sub_key, logits)[0]\n",
    "        context = context[1:] + [ix]\n",
    "        out.append(int(ix))\n",
    "        if ix == 0:\n",
    "            break\n",
    "    print(''.join(itos[i] for i in out))\n"
   ]
  },
  {
   "cell_type": "code",
   "execution_count": null,
   "metadata": {},
   "outputs": [],
   "source": []
  }
 ],
 "metadata": {
  "kernelspec": {
   "display_name": "pytorchenv",
   "language": "python",
   "name": "python3"
  },
  "language_info": {
   "codemirror_mode": {
    "name": "ipython",
    "version": 3
   },
   "file_extension": ".py",
   "mimetype": "text/x-python",
   "name": "python",
   "nbconvert_exporter": "python",
   "pygments_lexer": "ipython3",
   "version": "3.12.7"
  }
 },
 "nbformat": 4,
 "nbformat_minor": 2
}
