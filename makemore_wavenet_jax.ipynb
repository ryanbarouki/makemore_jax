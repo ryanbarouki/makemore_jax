{
 "cells": [
  {
   "cell_type": "code",
   "execution_count": 1,
   "metadata": {},
   "outputs": [
    {
     "name": "stderr",
     "output_type": "stream",
     "text": [
      "/Users/ryanbarouki/miniconda3/envs/pytorchenv/lib/python3.12/site-packages/tqdm/auto.py:21: TqdmWarning: IProgress not found. Please update jupyter and ipywidgets. See https://ipywidgets.readthedocs.io/en/stable/user_install.html\n",
      "  from .autonotebook import tqdm as notebook_tqdm\n"
     ]
    }
   ],
   "source": [
    "import jax\n",
    "import jax.numpy as jnp\n",
    "import numpy as np\n",
    "import optax\n",
    "import matplotlib.pyplot as plt\n",
    "from tqdm.auto import tqdm\n",
    "%matplotlib inline"
   ]
  },
  {
   "cell_type": "code",
   "execution_count": 2,
   "metadata": {},
   "outputs": [
    {
     "data": {
      "text/plain": [
       "['emma',\n",
       " 'olivia',\n",
       " 'ava',\n",
       " 'isabella',\n",
       " 'sophia',\n",
       " 'charlotte',\n",
       " 'mia',\n",
       " 'amelia',\n",
       " 'harper',\n",
       " 'evelyn']"
      ]
     },
     "execution_count": 2,
     "metadata": {},
     "output_type": "execute_result"
    }
   ],
   "source": [
    "words = open('names.txt', 'r').read().splitlines()\n",
    "words[:10]"
   ]
  },
  {
   "cell_type": "code",
   "execution_count": 3,
   "metadata": {},
   "outputs": [],
   "source": [
    "chars = sorted(list(set(\"\".join(words))))\n",
    "stoi = {s:i+1 for i,s in enumerate(chars)}\n",
    "stoi['.'] = 0\n",
    "itos = {i:s for s,i in stoi.items()}"
   ]
  },
  {
   "cell_type": "code",
   "execution_count": 4,
   "metadata": {},
   "outputs": [],
   "source": [
    "def build_dataset(words, block_size=3):\n",
    "    block_size = 3\n",
    "    X, Y = [], []\n",
    "\n",
    "    for w in words:\n",
    "        context = [0] * block_size\n",
    "        for ch in w + '.':\n",
    "            ix = stoi[ch]\n",
    "            X.append(context)\n",
    "            Y.append(ix)\n",
    "            context = context[1:] + [ix]\n",
    "\n",
    "    X = jnp.array(X)\n",
    "    Y = jnp.array(Y)\n",
    "    print(X.shape, X.dtype, Y.shape, Y.dtype)\n",
    "    return X, Y"
   ]
  },
  {
   "cell_type": "code",
   "execution_count": 5,
   "metadata": {},
   "outputs": [
    {
     "name": "stdout",
     "output_type": "stream",
     "text": [
      "(182338, 3) int32 (182338,) int32\n",
      "(22900, 3) int32 (22900,) int32\n",
      "(22908, 3) int32 (22908,) int32\n"
     ]
    }
   ],
   "source": [
    "key = jax.random.PRNGKey(420+69)\n",
    "# Split the data train/val/test at the word level\n",
    "import random\n",
    "random.shuffle(words)\n",
    "n1 = int(0.8*len(words))\n",
    "n2 = int(0.9*len(words))\n",
    "Xtr, Ytr = build_dataset(words[:n1])\n",
    "Xdev, Ydev = build_dataset(words[n1:n2])\n",
    "Xte, Yte = build_dataset(words[n2:])"
   ]
  },
  {
   "cell_type": "code",
   "execution_count": 8,
   "metadata": {},
   "outputs": [
    {
     "data": {
      "text/plain": [
       "<module 'modules' from '/Users/ryanbarouki/Documents/Coding/makemore_jax/modules.py'>"
      ]
     },
     "execution_count": 8,
     "metadata": {},
     "output_type": "execute_result"
    }
   ],
   "source": [
    "import modules as nn\n",
    "import importlib\n",
    "importlib.reload(nn)"
   ]
  },
  {
   "cell_type": "code",
   "execution_count": 26,
   "metadata": {},
   "outputs": [],
   "source": [
    "emb_dim = 10\n",
    "context_size = 3\n",
    "hidden_size = 200\n",
    "vocab_size = 27\n",
    "\n",
    "init_fun, forward = nn.sequential([nn.Embedding(emb_dim=emb_dim, vocab_size=vocab_size),\n",
    "                                   nn.Flatten(),\n",
    "                                   nn.Linear(fan_out=hidden_size),\n",
    "                                   nn.BatchNorm(),\n",
    "                                   nn.Tanh(),\n",
    "                                   nn.Linear(fan_out=vocab_size)])\n",
    "\n",
    "key = jax.random.PRNGKey(12121)\n",
    "params_and_state = init_fun(key, jnp.ones(context_size))"
   ]
  },
  {
   "cell_type": "code",
   "execution_count": 27,
   "metadata": {},
   "outputs": [
    {
     "name": "stdout",
     "output_type": "stream",
     "text": [
      "Number of parameters: 12297\n"
     ]
    }
   ],
   "source": [
    "print(f\"Number of parameters: {sum([p.size for layer in params_and_state[0].values() for p in layer])}\")"
   ]
  },
  {
   "cell_type": "code",
   "execution_count": 28,
   "metadata": {},
   "outputs": [],
   "source": [
    "def loss_fn(params, batch_stats, X, Y):\n",
    "    logits, batch_stats = forward((params, batch_stats), X)\n",
    "    return optax.losses.softmax_cross_entropy_with_integer_labels(logits, Y).mean(), batch_stats\n",
    "\n",
    "@jax.jit\n",
    "def train_step(params, batch_stats, X_batch, Y_batch, lr):\n",
    "    (loss, batch_stats), grads = jax.value_and_grad(loss_fn, has_aux=True)(params, batch_stats, X_batch, Y_batch)\n",
    "\n",
    "    new_params = {}\n",
    "    for layer_name, ps in params.items():\n",
    "        gs = grads[layer_name]\n",
    "        new_params[layer_name] = [p - lr * g for p,g in zip(ps, gs)]\n",
    "    return loss, new_params, batch_stats"
   ]
  },
  {
   "cell_type": "code",
   "execution_count": 29,
   "metadata": {},
   "outputs": [],
   "source": [
    "lossi = []\n",
    "stepi = []"
   ]
  },
  {
   "cell_type": "code",
   "execution_count": 30,
   "metadata": {},
   "outputs": [
    {
     "name": "stderr",
     "output_type": "stream",
     "text": [
      "100%|██████████| 200000/200000 [01:14<00:00, 2684.20it/s]"
     ]
    },
    {
     "name": "stdout",
     "output_type": "stream",
     "text": [
      "2.1290228\n"
     ]
    },
    {
     "name": "stderr",
     "output_type": "stream",
     "text": [
      "\n"
     ]
    }
   ],
   "source": [
    "\n",
    "# USED TO DETERMINE GOOD LEARNING RATE\n",
    "# lri = []\n",
    "# lre = jnp.linspace(-3,0,1000)\n",
    "#lr = 10**lre\n",
    "# =====================================\n",
    "\n",
    "# Training loop\n",
    "batch_size = 32\n",
    "\n",
    "params, batch_stats = params_and_state\n",
    "for i in tqdm(range(200000)):\n",
    "    lr = 0.1 if i < 100000 else 0.01\n",
    "    # mini-batch\n",
    "    key, subkey = jax.random.split(key)\n",
    "    ix = jax.random.randint(subkey, (batch_size), 0, Xtr.shape[0])\n",
    "\n",
    "    loss, params, batch_stats = train_step(params, batch_stats, Xtr[ix], Ytr[ix], lr)\n",
    "\n",
    "    # Track stats to determine good learning rate\n",
    "    # lri.append(lr[i])\n",
    "    lossi.append(jnp.log10(loss))\n",
    "    stepi.append(i)\n",
    "\n",
    "print(loss)"
   ]
  },
  {
   "cell_type": "code",
   "execution_count": 31,
   "metadata": {},
   "outputs": [
    {
     "data": {
      "text/plain": [
       "[<matplotlib.lines.Line2D at 0x14d1d3dd0>]"
      ]
     },
     "execution_count": 31,
     "metadata": {},
     "output_type": "execute_result"
    },
    {
     "data": {
      "image/png": "[encoded data removed]",
      "text/plain": [
       "<Figure size 640x480 with 1 Axes>"
      ]
     },
     "metadata": {},
     "output_type": "display_data"
    }
   ],
   "source": [
    "plt.plot(jnp.array(lossi).reshape((-1,1000)).mean(axis=1))"
   ]
  },
  {
   "cell_type": "code",
   "execution_count": 32,
   "metadata": {},
   "outputs": [
    {
     "name": "stdout",
     "output_type": "stream",
     "text": [
      "2.0859327\n"
     ]
    }
   ],
   "source": [
    "#plt.plot(lri, lossi)\n",
    "loss, _= loss_fn(params, batch_stats, Xdev, Ydev)\n",
    "print(loss)"
   ]
  },
  {
   "cell_type": "code",
   "execution_count": 33,
   "metadata": {},
   "outputs": [
    {
     "data": {
      "text/plain": [
       "Array([[-4.2449245 ,  1.8823657 ,  0.6976875 ,  0.9115938 ,  1.1481383 ,\n",
       "         0.82821316, -0.5874684 , -0.01983368,  0.35224813, -0.19314176,\n",
       "         1.3880253 ,  1.5235014 ,  0.8993387 ,  1.3745323 ,  0.44300726,\n",
       "        -0.53046685, -0.4748481 , -2.2377176 ,  1.000343  ,  1.1237055 ,\n",
       "         0.6855377 , -2.3489914 , -0.60395753, -0.9886343 , -1.7721362 ,\n",
       "        -0.258138  ,  0.28053033]], dtype=float32)"
      ]
     },
     "execution_count": 33,
     "metadata": {},
     "output_type": "execute_result"
    }
   ],
   "source": [
    "# making sure you can apply the model to one example\n",
    "logits, _= forward((params, batch_stats), Xdev[:1], train=False)\n",
    "logits"
   ]
  },
  {
   "cell_type": "code",
   "execution_count": 34,
   "metadata": {},
   "outputs": [
    {
     "name": "stdout",
     "output_type": "stream",
     "text": [
      "nazie.\n",
      "jailin.\n",
      "demarinab.\n",
      "kemandrick.\n",
      "ase.\n",
      "karger.\n",
      "len.\n",
      "ochukinnielani.\n",
      "sha.\n",
      "illiana.\n",
      "joul.\n",
      "yah.\n",
      "calie.\n",
      "ameri.\n",
      "lasiya.\n",
      "jacolendor.\n",
      "del.\n",
      "estiq.\n",
      "maaviah.\n",
      "blem.\n"
     ]
    }
   ],
   "source": [
    "# Sample from the trained model\n",
    "\n",
    "sample_key = jax.random.PRNGKey(4206969)\n",
    "\n",
    "for _ in range(20):\n",
    "    out = []\n",
    "    context = [0] * 3\n",
    "\n",
    "    sample_key, sample_sub_key = jax.random.split(sample_key)\n",
    "    while True:\n",
    "        sample_key, sample_sub_key = jax.random.split(sample_sub_key)\n",
    "        logits, _ = forward((params, batch_stats), jnp.array([context]), train=False)\n",
    "        ix = jax.random.categorical(sample_sub_key, logits)[0]\n",
    "        context = context[1:] + [ix]\n",
    "        out.append(int(ix))\n",
    "        if ix == 0:\n",
    "            break\n",
    "    print(''.join(itos[i] for i in out))\n"
   ]
  },
  {
   "cell_type": "code",
   "execution_count": null,
   "metadata": {},
   "outputs": [],
   "source": []
  }
 ],
 "metadata": {
  "kernelspec": {
   "display_name": "pytorchenv",
   "language": "python",
   "name": "python3"
  },
  "language_info": {
   "codemirror_mode": {
    "name": "ipython",
    "version": 3
   },
   "file_extension": ".py",
   "mimetype": "text/x-python",
   "name": "python",
   "nbconvert_exporter": "python",
   "pygments_lexer": "ipython3",
   "version": "3.12.7"
  }
 },
 "nbformat": 4,
 "nbformat_minor": 2
}
